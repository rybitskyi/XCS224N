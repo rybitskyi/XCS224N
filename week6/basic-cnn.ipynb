{
 "cells": [
  {
   "cell_type": "code",
   "execution_count": 1,
   "metadata": {},
   "outputs": [],
   "source": [
    "import torch\n",
    "import torch.nn as nn"
   ]
  },
  {
   "cell_type": "code",
   "execution_count": 25,
   "metadata": {},
   "outputs": [
    {
     "name": "stdout",
     "output_type": "stream",
     "text": [
      "torch.Size([2, 3, 5])\n",
      "tensor([[[-0.0164,  0.0682, -1.0723,  0.3178, -0.7321],\n",
      "         [-0.8414, -0.1501,  0.0576, -1.0243, -0.0486],\n",
      "         [-0.2395,  0.3333, -0.2950,  0.8950, -1.7079]],\n",
      "\n",
      "        [[-0.1414, -0.1544, -0.9364,  0.1933,  0.3440],\n",
      "         [-1.0754, -0.4314,  0.4562, -0.1525, -1.3315],\n",
      "         [-1.0079, -0.3715,  0.0320, -0.1780, -1.2264]]],\n",
      "       grad_fn=<SqueezeBackward1>)\n"
     ]
    }
   ],
   "source": [
    "batch_size = 2\n",
    "word_embedded_size = 4\n",
    "seq_len = 7\n",
    "input = torch.randn(batch_size, word_embedded_size, seq_len)\n",
    "conv1 = nn.Conv1d(in_channels=word_embedded_size, out_channels=3, kernel_size=3)\n",
    "hidden1 = conv1(input)\n",
    "print(hidden1.size())\n",
    "print(hidden1)"
   ]
  },
  {
   "cell_type": "code",
   "execution_count": 26,
   "metadata": {},
   "outputs": [
    {
     "name": "stdout",
     "output_type": "stream",
     "text": [
      "tensor([[0.3178, 0.0576, 0.8950],\n",
      "        [0.3440, 0.4562, 0.0320]], grad_fn=<MaxBackward0>)\n"
     ]
    }
   ],
   "source": [
    "hidden2 = torch.max(hidden1, dim=2) #max pool2\n",
    "print(hidden2.values)"
   ]
  },
  {
   "cell_type": "code",
   "execution_count": null,
   "metadata": {},
   "outputs": [],
   "source": []
  }
 ],
 "metadata": {
  "kernelspec": {
   "display_name": "Python 3",
   "language": "python",
   "name": "python3"
  },
  "language_info": {
   "codemirror_mode": {
    "name": "ipython",
    "version": 3
   },
   "file_extension": ".py",
   "mimetype": "text/x-python",
   "name": "python",
   "nbconvert_exporter": "python",
   "pygments_lexer": "ipython3",
   "version": "3.6.10"
  }
 },
 "nbformat": 4,
 "nbformat_minor": 4
}
