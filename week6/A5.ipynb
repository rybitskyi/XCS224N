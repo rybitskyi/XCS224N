{
 "cells": [
  {
   "cell_type": "markdown",
   "metadata": {},
   "source": [
    "Azure\n",
    "Ganjahh123!\n",
    "\n",
    "```\n",
    "ssh -p 55336 scpdxcs@ml-lab-191a8958-5a9d-4291-83f4-565570e51159.southcentralus.cloudapp.azure.com\n",
    "```\n",
    "\n",
    "```\n",
    "scp -r -P 55336 XCS224N-A5 scpdxcs@ml-lab-191a8958-5a9d-4291-83f4-565570e51159.southcentralus.cloudapp.azure.com:/home/scpdxcs/a5\n",
    "```\n",
    "\n"
   ]
  },
  {
   "cell_type": "markdown",
   "metadata": {},
   "source": [
    "```\n",
    "scp -r -P 55336 scpdxcs@ml-lab-191a8958-5a9d-4291-83f4-565570e51159.southcentralus.cloudapp.azure.com:/home/scpdxcs/a5/outputs outputs\n",
    "```"
   ]
  },
  {
   "cell_type": "code",
   "execution_count": null,
   "metadata": {},
   "outputs": [],
   "source": []
  }
 ],
 "metadata": {
  "kernelspec": {
   "display_name": "Python 3",
   "language": "python",
   "name": "python3"
  },
  "language_info": {
   "codemirror_mode": {
    "name": "ipython",
    "version": 3
   },
   "file_extension": ".py",
   "mimetype": "text/x-python",
   "name": "python",
   "nbconvert_exporter": "python",
   "pygments_lexer": "ipython3",
   "version": "3.6.10"
  }
 },
 "nbformat": 4,
 "nbformat_minor": 4
}
