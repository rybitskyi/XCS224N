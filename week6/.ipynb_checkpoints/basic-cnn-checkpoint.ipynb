{
 "cells": [
  {
   "cell_type": "code",
   "execution_count": 1,
   "metadata": {},
   "outputs": [],
   "source": [
    "import torch\n",
    "import torch.nn as nn"
   ]
  },
  {
   "cell_type": "code",
   "execution_count": 11,
   "metadata": {},
   "outputs": [
    {
     "name": "stdout",
     "output_type": "stream",
     "text": [
      "tensor([[[ 2.8473e-02,  5.8509e-01,  2.9739e-01, -9.1627e-01,  1.0410e+00],\n",
      "         [-3.4461e-01, -2.3796e-02, -1.0013e+00, -1.0418e+00,  1.0743e-01],\n",
      "         [ 5.3489e-02, -1.0980e+00, -1.9124e-01,  5.7915e-01, -5.8948e-01]],\n",
      "\n",
      "        [[ 4.7122e-01, -7.3322e-01, -2.6382e-01, -1.0196e+00, -5.6854e-01],\n",
      "         [-6.0299e-01, -6.6764e-01,  6.4845e-01, -5.8255e-01,  1.1573e-01],\n",
      "         [-7.3884e-02,  6.0381e-01,  3.8190e-01,  1.0665e+00,  4.5256e-02]],\n",
      "\n",
      "        [[-2.3005e-01, -8.8292e-01,  1.0342e+00,  1.0353e+00,  7.1203e-01],\n",
      "         [-6.1978e-02,  2.3487e-02, -5.2512e-01, -3.7796e-01,  9.8900e-01],\n",
      "         [ 8.0425e-01,  1.1347e+00, -4.1023e-01, -2.5774e-01, -9.3780e-01]],\n",
      "\n",
      "        [[-4.1656e-01,  2.1496e-01,  1.1718e-04, -2.8669e-01,  1.7404e+00],\n",
      "         [-6.8451e-01,  8.8115e-02, -1.3405e-01, -1.9200e-02, -4.0746e-02],\n",
      "         [ 5.5145e-01,  2.6994e-02, -2.1135e-01, -1.3158e-01, -1.3200e-01]]],\n",
      "       grad_fn=<SqueezeBackward1>)\n"
     ]
    }
   ],
   "source": [
    "batch_size = 4\n",
    "word_embedded_size = 4\n",
    "seq_len = 7\n",
    "input = torch.randn(batch_size, word_embedded_size, seq_len)\n",
    "conv1 = nn.Conv1d(in_channels=word_embedded_size, out_channels=3, kernel_size=3)\n",
    "hidden1 = conv1(input)\n",
    "print(hidden1)"
   ]
  },
  {
   "cell_type": "code",
   "execution_count": 10,
   "metadata": {},
   "outputs": [
    {
     "name": "stdout",
     "output_type": "stream",
     "text": [
      "tensor([[ 0.4213,  0.2970,  0.2584],\n",
      "        [-0.0899,  0.5340,  0.1844],\n",
      "        [ 0.7393,  0.5279,  0.3254],\n",
      "        [ 1.0187,  0.3296,  0.1291]], grad_fn=<MaxBackward0>)\n"
     ]
    }
   ],
   "source": [
    "hidden2 = torch.max(hidden1, dim=2) #max pool2\n",
    "print(hidden2.values)"
   ]
  },
  {
   "cell_type": "code",
   "execution_count": null,
   "metadata": {},
   "outputs": [],
   "source": []
  }
 ],
 "metadata": {
  "kernelspec": {
   "display_name": "Python 3",
   "language": "python",
   "name": "python3"
  },
  "language_info": {
   "codemirror_mode": {
    "name": "ipython",
    "version": 3
   },
   "file_extension": ".py",
   "mimetype": "text/x-python",
   "name": "python",
   "nbconvert_exporter": "python",
   "pygments_lexer": "ipython3",
   "version": "3.6.10"
  }
 },
 "nbformat": 4,
 "nbformat_minor": 4
}
