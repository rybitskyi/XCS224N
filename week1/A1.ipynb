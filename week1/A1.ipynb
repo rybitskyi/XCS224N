{
 "cells": [
  {
   "cell_type": "markdown",
   "metadata": {},
   "source": [
    "(a) (2 points) Implement the distinct words function in co occurrence.py. You can do this with for\n",
    "loops, but it’s more efficient to do it with Python list comprehensions."
   ]
  },
  {
   "cell_type": "markdown",
   "metadata": {},
   "source": [
    "(b) (5 points) Implement the compute co occurrence function in co occurrence.py. If you aren’t\n",
    "familiar with the python numpy package, we suggest walking yourself through this tutorial: http:\n",
    "//cs231n.github.io/python-numpy-tutorial."
   ]
  },
  {
   "cell_type": "markdown",
   "metadata": {},
   "source": [
    "(c) (2 points) Implement the reduce to k dim function in co occurrence.py"
   ]
  },
  {
   "cell_type": "code",
   "execution_count": 28,
   "metadata": {},
   "outputs": [],
   "source": [
    "import sys\n",
    "import os\n",
    "import numpy as np\n",
    "import scipy as sp\n",
    "from sklearn.decomposition import TruncatedSVD\n",
    "from sklearn.decomposition import PCA\n",
    "\n",
    "import numpy as np\n",
    "import matplotlib\n",
    "\n",
    "import matplotlib.pyplot as plt\n",
    "\n",
    "plt.style.use('classic')\n",
    "plt.rcParams['figure.figsize'] = [10, 5]\n"
   ]
  },
  {
   "cell_type": "code",
   "execution_count": 2,
   "metadata": {},
   "outputs": [
    {
     "data": {
      "text/plain": [
       "[['START', 'All', 'that', 'glitters', \"isn't\", 'gold', 'END'],\n",
       " ['START', \"All's\", 'well', 'that', 'ends', 'well', 'END'],\n",
       " ['START', 'All', 'that', 'that', \"isn't\", 'glitters', 'END']]"
      ]
     },
     "execution_count": 2,
     "metadata": {},
     "output_type": "execute_result"
    }
   ],
   "source": [
    "corpus = [\"START All that glitters isn't gold END\".split(\" \"), \n",
    "          \"START All's well that ends well END\".split(\" \"),\n",
    "         \"START All that that isn't glitters END\".split(\" \"),]\n",
    "corpus"
   ]
  },
  {
   "cell_type": "code",
   "execution_count": 3,
   "metadata": {},
   "outputs": [],
   "source": [
    "def distinct_words(corpus):\n",
    "    \"\"\" Determine a list of distinct words for the corpus.\n",
    "        Params:\n",
    "            corpus (list of list of strings): corpus of documents\n",
    "        Return:\n",
    "            corpus_words (list of strings): list of distinct words across the corpus, sorted (using python 'sorted' function)\n",
    "            num_corpus_words (integer): number of distinct words across the corpus\n",
    "    \"\"\"\n",
    "    corpus_words = []\n",
    "    num_corpus_words = -1\n",
    "\n",
    "    ### SOLUTION BEGIN\n",
    "    words = set()\n",
    "    for doc in corpus:\n",
    "        words.update([word for word in doc])\n",
    "\n",
    "    corpus_words = sorted(words)\n",
    "    num_corpus_words = len(words)\n",
    "    ### SOLUTION END\n",
    "\n",
    "    return corpus_words, num_corpus_words"
   ]
  },
  {
   "cell_type": "code",
   "execution_count": 4,
   "metadata": {},
   "outputs": [
    {
     "name": "stdout",
     "output_type": "stream",
     "text": [
      "{'All': 0, \"All's\": 1, 'END': 2, 'START': 3, 'ends': 4, 'glitters': 5, 'gold': 6, \"isn't\": 7, 'that': 8, 'well': 9}\n"
     ]
    }
   ],
   "source": [
    "words, num_words = distinct_words(corpus)\n",
    "word2Ind = {}\n",
    "for i, word in enumerate(words):\n",
    "    word2Ind[word] = i\n",
    "print(word2Ind)"
   ]
  },
  {
   "cell_type": "code",
   "execution_count": 5,
   "metadata": {},
   "outputs": [
    {
     "name": "stderr",
     "output_type": "stream",
     "text": [
      "[nltk_data] Downloading package reuters to\n",
      "[nltk_data]     /Users/yrybitskyi/nltk_data...\n",
      "[nltk_data]   Package reuters is already up-to-date!\n"
     ]
    }
   ],
   "source": [
    "import nltk\n",
    "nltk.download('reuters')\n",
    "from nltk.corpus import reuters\n",
    "\n",
    "START_TOKEN = '<START>'\n",
    "END_TOKEN = '<END>'\n",
    "\n",
    "def read_corpus(category=\"crude\"):\n",
    "    \"\"\" Read files from the specified Reuter's category.\n",
    "        Params:\n",
    "            category (string): category name\n",
    "        Return:\n",
    "            list of lists, with words from each of the processed files\n",
    "    \"\"\"\n",
    "    files = reuters.fileids(category)\n",
    "    return [[START_TOKEN] + [w.lower() for w in list(reuters.words(f))] + [END_TOKEN] for f in files]\n"
   ]
  },
  {
   "cell_type": "code",
   "execution_count": 6,
   "metadata": {},
   "outputs": [],
   "source": [
    "reuters_corpus = read_corpus()"
   ]
  },
  {
   "cell_type": "code",
   "execution_count": 7,
   "metadata": {},
   "outputs": [],
   "source": [
    "def compute_co_occurrence_matrix(corpus, window_size=4):\n",
    "    \"\"\" Compute co-occurrence matrix for the given corpus and window_size (default of 4).\n",
    "    \n",
    "        Note: Each word in a document should be at the center of a window. Words near edges will have a smaller\n",
    "              number of co-occurring words.\n",
    "              \n",
    "              For example, if we take the document \"START All that glitters is not gold END\" with window size of 4,\n",
    "              \"All\" will co-occur with \"START\", \"that\", \"glitters\", \"is\", and \"not\".\n",
    "    \n",
    "        Params:\n",
    "            corpus (list of list of strings): corpus of documents\n",
    "            window_size (int): size of context window\n",
    "        Return:\n",
    "            M (numpy matrix of shape (number of unique words in the corpus , number of unique words in the corpus)):\n",
    "                Co-occurrence matrix of word counts. \n",
    "                The ordering of the words in the rows/columns should be the same as the ordering of the words given by the distinct_words function.\n",
    "            word2Ind (dict): dictionary that maps word to index (i.e. row/column number) for matrix M.\n",
    "    \"\"\"\n",
    "    words, num_words = distinct_words(corpus)\n",
    "    M = None\n",
    "    word2Ind = {}\n",
    "\n",
    "    ### SOLUTION BEGIN\n",
    "\n",
    "    for i, word in enumerate(words):\n",
    "        word2Ind[word] = i\n",
    "\n",
    "    def relu(x):\n",
    "        if x > 0:\n",
    "            return x\n",
    "        else:\n",
    "            return 0\n",
    "\n",
    "    max_doc_length = 0\n",
    "    for doc in corpus:\n",
    "        doc_length = len(doc)\n",
    "        if doc_length > max_doc_length:\n",
    "            max_doc_length = doc_length\n",
    "\n",
    "\n",
    "    corpus_index = np.zeros((len(corpus), max_doc_length))\n",
    "    skipped_words = set()\n",
    "    for i, doc in enumerate(corpus):\n",
    "        for j, word in enumerate(doc):\n",
    "            w_idx = word2Ind.get(word)\n",
    "            if w_idx is not None:\n",
    "                corpus_index[i, j] = w_idx\n",
    "            else:\n",
    "                skipped_words.add(word)\n",
    "\n",
    "    print(f\"skipped_words : {sorted(skipped_words)}\")\n",
    "\n",
    "    print(f\"corpus_index.shape: {corpus_index.shape}\")\n",
    "\n",
    "    def word_context(doc_index, word_index, wd_size):\n",
    "        word_context_map = {}\n",
    "\n",
    "        doc = corpus_index[doc_index]\n",
    "        left_context = doc[relu(word_index - wd_size) : word_index]\n",
    "        right_context = doc[word_index + 1 : word_index + wd_size + 1]\n",
    "\n",
    "        for w in left_context:\n",
    "            cnt = word_context_map.get(w, 0)\n",
    "            word_context_map[w] = cnt + 1\n",
    "        for w in right_context:\n",
    "            cnt = word_context_map.get(w, 0)\n",
    "            word_context_map[w] = cnt + 1\n",
    "\n",
    "        return word_context_map\n",
    "\n",
    "    M = np.empty((num_words, num_words))\n",
    "    M[:] = np.nan\n",
    "\n",
    "    # Cache all words in corpus\n",
    "    # word_presence = [None] * num_words\n",
    "    word_presence = []\n",
    "    for i in range(num_words):\n",
    "        # word_presence[i] = np.array(np.where(corpus_index == i)).T\n",
    "        rows, cols = np.where(corpus_index == i)\n",
    "        doc_wordpos_map = {}\n",
    "\n",
    "        for t in zip(rows, cols):\n",
    "            doc_idx = t[0]\n",
    "            word_position = t[1]\n",
    "            word_index = doc_wordpos_map.get(doc_idx)\n",
    "            if word_index is None:\n",
    "                word_index = set()\n",
    "            word_index.add(word_position)\n",
    "            doc_wordpos_map[doc_idx] = word_index\n",
    "\n",
    "        word_presence.append(doc_wordpos_map)\n",
    "\n",
    "    print(f\"len(word_presence): {len(word_presence)}\")\n",
    "\n",
    "    for i in range(num_words):\n",
    "        # print(f\"{i} from {num_words}\")\n",
    "        i_doc_wordpos_map = word_presence[i]\n",
    "        i_doc_indexes = i_doc_wordpos_map.keys()\n",
    "\n",
    "        for j in range(num_words):\n",
    "            if i == j:\n",
    "                M[i, j] = 0\n",
    "                continue\n",
    "            if np.isnan(M[j, i]):\n",
    "                j_doc_wordpos_map = word_presence[j]\n",
    "                cnt = 0\n",
    "                for j_doc_idx in j_doc_wordpos_map.keys():\n",
    "\n",
    "                    if j_doc_idx in i_doc_indexes:\n",
    "                        for wi in j_doc_wordpos_map[j_doc_idx]:\n",
    "                            word_context_map = word_context(j_doc_idx, wi, window_size)\n",
    "                            cnt = cnt + word_context_map.get(i, 0)\n",
    "\n",
    "                M[i, j] = cnt\n",
    "            else:\n",
    "                M[i, j] = M[j, i]\n",
    "\n",
    "### SOLUTION END\n",
    "\n",
    "    return M, word2Ind"
   ]
  },
  {
   "cell_type": "code",
   "execution_count": 8,
   "metadata": {},
   "outputs": [],
   "source": [
    "def reduce_to_k_dim(M, k=2):\n",
    "    \"\"\" Reduce a co-occurrence count matrix of dimensionality (num_corpus_words, num_corpus_words)\n",
    "        to a matrix of dimensionality (num_corpus_words, k) using the following SVD function from Scikit-Learn:\n",
    "            - http://scikit-learn.org/stable/modules/generated/sklearn.decomposition.TruncatedSVD.html\n",
    "    \n",
    "        Params:\n",
    "            M (numpy matrix of shape (number of unique words in the corpus , number of number of corpus words)): co-occurrence matrix of word counts\n",
    "            k (int): embedding size of each word after dimension reduction\n",
    "        Return:\n",
    "            M_reduced (numpy matrix of shape (number of corpus words, k)): matrix of k-dimensioal word embeddings.\n",
    "                    In terms of the SVD from math class, this actually returns U * S\n",
    "    \"\"\"    \n",
    "    np.random.seed(4355)\n",
    "    n_iters = 10     # Use this parameter in your call to `TruncatedSVD`\n",
    "    M_reduced = None\n",
    "    print(\"Running Truncated SVD over %i words...\" % (M.shape[0]))\n",
    "    \n",
    "    ### SOLUTION BEGIN\n",
    "    svd = TruncatedSVD(n_components=k, n_iter=n_iters)\n",
    "    M_reduced = svd.fit_transform(M)\n",
    "    ### SOLUTION END\n",
    "\n",
    "    print(\"Done.\")\n",
    "    return M_reduced"
   ]
  },
  {
   "cell_type": "code",
   "execution_count": 9,
   "metadata": {},
   "outputs": [
    {
     "name": "stdout",
     "output_type": "stream",
     "text": [
      "skipped_words : []\n",
      "corpus_index.shape: (10, 1001)\n",
      "len(word_presence): 888\n",
      "Result Matrix Count: 15704\n"
     ]
    }
   ],
   "source": [
    "M_co_occurrence, word2Ind_co_occurrence = compute_co_occurrence_matrix(reuters_corpus[:10])\n",
    "cnt = np.count_nonzero(M_co_occurrence > 0)\n",
    "if np.count_nonzero(M_co_occurrence > 0) == 0:\n",
    "    raise Exception(\"Matrix's empty\")\n",
    "print(f\"Result Matrix Count: {cnt}\")"
   ]
  },
  {
   "cell_type": "code",
   "execution_count": 10,
   "metadata": {},
   "outputs": [
    {
     "name": "stdout",
     "output_type": "stream",
     "text": [
      "Running Truncated SVD over 888 words...\n",
      "Done.\n",
      "1776\n"
     ]
    }
   ],
   "source": [
    "M_reduced_co_occurrence = reduce_to_k_dim(M_co_occurrence, k=2)\n",
    "print(M_reduced_co_occurrence.size)"
   ]
  },
  {
   "cell_type": "code",
   "execution_count": 11,
   "metadata": {},
   "outputs": [],
   "source": [
    "M_lengths = np.linalg.norm(M_reduced_co_occurrence, axis=1)\n",
    "M_normalized = M_reduced_co_occurrence / M_lengths[:, np.newaxis] # broadcasting"
   ]
  },
  {
   "cell_type": "code",
   "execution_count": 24,
   "metadata": {},
   "outputs": [],
   "source": [
    "def plot_embeddings(M_reduced, word2Ind, words, title):\n",
    "    plt.clf()\n",
    "    fig = plt.figure()\n",
    "    fig.suptitle(title, fontsize=20)\n",
    "    for word in words:\n",
    "        idx = word2Ind[word]\n",
    "        x = M_reduced[idx, 0]\n",
    "        y = M_reduced[idx, 1]\n",
    "        plt.scatter(x, y, marker='x', color='red')\n",
    "        plt.text(x, y, word, fontsize=9)\n",
    "    "
   ]
  },
  {
   "cell_type": "code",
   "execution_count": 26,
   "metadata": {},
   "outputs": [
    {
     "data": {
      "text/plain": [
       "<Figure size 800x400 with 0 Axes>"
      ]
     },
     "metadata": {},
     "output_type": "display_data"
    },
    {
     "data": {
      "image/png": "[encoded data removed]",
      "text/plain": [
       "<Figure size 800x400 with 1 Axes>"
      ]
     },
     "metadata": {},
     "output_type": "display_data"
    }
   ],
   "source": [
    "# words_list = ['barrels', 'bpd', 'ecuador', 'energy', 'industry', 'kuwait', 'oil', 'output', 'petroleum', 'venezuela']\n",
    "words_list = ['barrels', 'bpd', 'energy', 'industry', 'oil', 'output', 'petroleum']\n",
    "\n",
    "plot_embeddings(M_normalized, word2Ind_co_occurrence, words_list, 'co_occurrence_embeddings.png')"
   ]
  },
  {
   "cell_type": "code",
   "execution_count": null,
   "metadata": {},
   "outputs": [],
   "source": []
  }
 ],
 "metadata": {
  "kernelspec": {
   "display_name": "Python 3",
   "language": "python",
   "name": "python3"
  },
  "language_info": {
   "codemirror_mode": {
    "name": "ipython",
    "version": 3
   },
   "file_extension": ".py",
   "mimetype": "text/x-python",
   "name": "python",
   "nbconvert_exporter": "python",
   "pygments_lexer": "ipython3",
   "version": "3.6.10"
  }
 },
 "nbformat": 4,
 "nbformat_minor": 4
}
