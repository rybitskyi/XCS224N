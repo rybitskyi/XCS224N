{
 "cells": [
  {
   "cell_type": "code",
   "execution_count": 9,
   "metadata": {},
   "outputs": [],
   "source": [
    "import torch\n",
    "import torch.nn as nn\n",
    "import torch.nn.functional as F\n",
    "import torch.nn.utils"
   ]
  },
  {
   "cell_type": "code",
   "execution_count": 14,
   "metadata": {},
   "outputs": [
    {
     "data": {
      "text/plain": [
       "tensor([[[-1.8945, -0.4905,  1.8008],\n",
       "         [ 1.2285, -0.5103,  0.0439],\n",
       "         [ 0.3994,  1.6089,  2.2341],\n",
       "         [-1.2144,  0.5555,  0.1739]],\n",
       "\n",
       "        [[ 0.3994,  1.6089,  2.2341],\n",
       "         [-1.5616, -0.5086,  0.6571],\n",
       "         [ 1.2285, -0.5103,  0.0439],\n",
       "         [ 0.4517,  0.5417,  1.4124]]], grad_fn=<EmbeddingBackward>)"
      ]
     },
     "execution_count": 14,
     "metadata": {},
     "output_type": "execute_result"
    }
   ],
   "source": [
    "embedding = nn.Embedding(10, 3)\n",
    "# a batch of 2 samples of 4 indices each\n",
    "input = torch.LongTensor([\n",
    "    [1,2,4,5],\n",
    "    [4,3,2,9]])\n",
    "embedding(input)"
   ]
  },
  {
   "cell_type": "code",
   "execution_count": 17,
   "metadata": {},
   "outputs": [
    {
     "name": "stdout",
     "output_type": "stream",
     "text": [
      "tensor([[[-2.3981e-01,  4.1244e-01,  9.3115e-02, -4.3005e-02,  3.3042e-01,\n",
      "           4.9218e-01,  3.7417e-01, -2.0643e-01, -3.7912e-01, -3.0800e-01,\n",
      "          -4.0150e-01,  1.1727e-01, -1.5637e-01,  2.9471e-01,  4.0225e-01,\n",
      "          -5.9101e-03, -3.6909e-01, -1.5997e-01,  2.0782e-01, -7.4707e-02],\n",
      "         [-2.5770e-01, -3.5434e-01, -8.2726e-02, -5.3464e-02, -1.2011e-01,\n",
      "          -2.3071e-01, -2.2129e-01,  1.7346e-01,  4.4689e-01,  4.0703e-01,\n",
      "          -8.5959e-02, -3.3974e-01, -9.0958e-02,  4.3275e-02,  1.8130e-01,\n",
      "           1.0109e-01, -8.7431e-02, -3.2915e-01,  5.8454e-03,  5.3383e-02],\n",
      "         [ 2.1184e-02,  9.4610e-02,  2.2474e-01,  7.8041e-02, -4.7218e-01,\n",
      "           7.6736e-03,  1.4212e-01,  9.8716e-02, -4.1600e-01,  2.3166e-02,\n",
      "          -1.2764e-01, -1.7493e-01,  1.0264e-01,  9.0554e-02,  2.2718e-01,\n",
      "           3.0260e-01,  1.7041e-01,  1.9831e-01,  4.7464e-02, -6.2420e-02]],\n",
      "\n",
      "        [[-1.3027e-01,  2.6094e-01, -6.1043e-02,  7.4563e-02,  1.9213e-01,\n",
      "           1.7708e-01,  2.4993e-01, -1.9544e-01, -1.8641e-01, -2.2294e-01,\n",
      "          -2.8498e-01,  1.2139e-01, -1.4984e-01,  1.8281e-01,  1.5537e-01,\n",
      "           7.1516e-02, -1.1781e-01, -1.4730e-01,  1.0747e-01,  5.2975e-02],\n",
      "         [-8.4204e-02, -1.3949e-01, -1.2014e-01,  1.6102e-02,  2.3124e-02,\n",
      "          -6.5999e-02, -2.1128e-01,  3.5968e-02,  2.1796e-01,  7.3944e-02,\n",
      "          -6.5489e-02, -1.0150e-01, -1.6521e-01,  2.4615e-02,  1.2641e-01,\n",
      "           8.6475e-02,  1.4049e-02, -2.7874e-01, -3.3668e-02,  1.1053e-01],\n",
      "         [-3.5453e-02,  1.3865e-01,  1.0409e-01,  1.0894e-01, -2.3703e-01,\n",
      "           5.7452e-02,  1.4672e-01, -3.4546e-03, -2.3923e-01, -2.3327e-02,\n",
      "          -9.7642e-02, -3.8556e-02, -5.9427e-02,  1.4892e-01,  1.9113e-01,\n",
      "           1.7851e-01,  1.6724e-01,  6.4507e-02,  5.7214e-02,  1.6635e-04]],\n",
      "\n",
      "        [[-1.0690e-01,  1.2537e-01, -1.3932e-01,  1.5245e-01,  1.3626e-01,\n",
      "           1.0615e-01,  2.0083e-01, -1.5228e-01, -9.0548e-02, -1.2553e-01,\n",
      "          -1.9595e-01,  1.2270e-01, -1.1979e-01,  1.1593e-01,  4.0349e-02,\n",
      "           7.7618e-02, -5.3779e-03, -1.3069e-01,  2.9261e-02,  9.0825e-02],\n",
      "         [-3.0774e-02, -9.6479e-02, -1.5726e-01,  9.4556e-02,  1.0919e-01,\n",
      "          -3.5231e-02, -3.4358e-02, -4.9491e-02,  1.3630e-01,  2.3532e-02,\n",
      "          -6.4343e-02, -1.9355e-02, -7.4228e-02, -5.5822e-03,  3.9575e-02,\n",
      "           8.3270e-02,  4.7832e-02, -2.6393e-01, -6.6577e-02,  9.6917e-02],\n",
      "         [-9.2916e-02,  1.2230e-01,  3.0877e-02,  1.3489e-01, -7.0604e-02,\n",
      "           5.3200e-02,  1.4385e-01, -6.2679e-02, -8.0575e-02, -5.6441e-02,\n",
      "          -1.4535e-02,  2.8086e-02, -1.3089e-01,  1.0222e-01,  5.5071e-02,\n",
      "           8.7409e-02,  1.6526e-01, -1.5984e-03,  5.2852e-02,  2.4873e-02]],\n",
      "\n",
      "        [[-8.9721e-02,  7.8818e-02, -1.7233e-01,  1.6608e-01,  1.3757e-01,\n",
      "           7.1784e-02,  1.7832e-01, -1.5030e-01, -5.3282e-02, -8.5519e-02,\n",
      "          -1.4269e-01,  1.1124e-01, -8.3217e-02,  7.5416e-02, -6.9289e-03,\n",
      "           9.0881e-02,  4.3527e-02, -1.2260e-01, -2.2112e-02,  1.0793e-01],\n",
      "         [-8.4699e-03, -5.0563e-02, -1.7668e-01,  1.3313e-01,  1.2434e-01,\n",
      "          -9.4169e-03,  7.9138e-02, -9.1842e-02,  7.0185e-02,  1.1823e-02,\n",
      "          -9.6701e-02,  4.3769e-02, -3.3348e-02, -1.3388e-02,  6.8300e-03,\n",
      "           9.6805e-02,  7.4919e-02, -2.2577e-01, -7.5494e-02,  1.2129e-01],\n",
      "         [-1.3633e-01,  1.1384e-01, -2.4998e-02,  1.4500e-01,  2.1555e-02,\n",
      "           6.6966e-02,  1.3027e-01, -9.1372e-02, -1.3051e-02, -6.3098e-02,\n",
      "          -1.9160e-02,  6.7123e-02, -1.3550e-01,  6.3768e-02, -5.7201e-03,\n",
      "           2.9598e-02,  1.6283e-01, -3.3846e-02,  4.4165e-02,  6.2629e-02]],\n",
      "\n",
      "        [[-8.6161e-02,  5.1273e-02, -1.8161e-01,  1.6615e-01,  1.3735e-01,\n",
      "           4.7416e-02,  1.7908e-01, -1.3727e-01, -1.8806e-02, -4.6365e-02,\n",
      "          -1.0865e-01,  1.1154e-01, -5.8307e-02,  5.4026e-02, -2.1823e-02,\n",
      "           9.0690e-02,  7.6708e-02, -1.3675e-01, -4.3843e-02,  1.1728e-01],\n",
      "         [-4.3905e-02, -2.3070e-02, -1.7661e-01,  1.2209e-01,  1.2152e-01,\n",
      "           1.8544e-02,  1.1003e-01, -9.9175e-02,  4.6940e-02,  3.0543e-03,\n",
      "          -1.1670e-01,  7.0222e-02, -2.7166e-02, -1.8047e-02, -4.8789e-03,\n",
      "           4.3099e-02,  1.1248e-01, -1.6932e-01, -4.9516e-02,  1.4605e-01],\n",
      "         [-1.4083e-01,  8.1437e-02, -7.8154e-02,  1.6809e-01,  7.5766e-02,\n",
      "           8.1951e-02,  1.1584e-01, -9.9624e-02,  1.9240e-02, -5.0524e-02,\n",
      "          -4.7726e-02,  8.8073e-02, -1.2349e-01,  3.8357e-02, -2.7897e-02,\n",
      "           1.1487e-02,  1.5168e-01, -5.3873e-02,  2.2155e-02,  9.3414e-02]]],\n",
      "       grad_fn=<StackBackward>)\n"
     ]
    }
   ],
   "source": [
    "rnn = nn.LSTM(10, 20, 2)\n",
    "input = torch.randn(5, 3, 10)\n",
    "h0 = torch.randn(2, 3, 20)\n",
    "c0 = torch.randn(2, 3, 20)\n",
    "output, (hn, cn) = rnn(input, (h0, c0))\n",
    "print(output)"
   ]
  },
  {
   "cell_type": "code",
   "execution_count": 18,
   "metadata": {},
   "outputs": [
    {
     "name": "stdout",
     "output_type": "stream",
     "text": [
      "tensor([[[ 0.0011, -0.1135,  0.0872,  0.0540,  0.1491,  0.0086,  0.0887,\n",
      "           0.1340, -0.1681, -0.0911, -0.0419,  0.0260, -0.1590, -0.1021,\n",
      "          -0.1187, -0.0293, -0.0313, -0.0276,  0.1172, -0.0287],\n",
      "         [ 0.1614, -0.0906, -0.0811,  0.2315,  0.0791, -0.0470,  0.1031,\n",
      "           0.1969, -0.0621,  0.0675, -0.1078,  0.1111, -0.0810, -0.1112,\n",
      "          -0.2056, -0.0300,  0.3398,  0.0385, -0.1096,  0.1899],\n",
      "         [-0.0211, -0.2226,  0.1302,  0.0879,  0.1321,  0.0803,  0.0397,\n",
      "           0.0993,  0.1699,  0.0254, -0.1395, -0.0564, -0.0825, -0.0120,\n",
      "          -0.1214, -0.0250,  0.1474, -0.0902, -0.2316,  0.0129]],\n",
      "\n",
      "        [[-0.0862,  0.0513, -0.1816,  0.1661,  0.1373,  0.0474,  0.1791,\n",
      "          -0.1373, -0.0188, -0.0464, -0.1087,  0.1115, -0.0583,  0.0540,\n",
      "          -0.0218,  0.0907,  0.0767, -0.1367, -0.0438,  0.1173],\n",
      "         [-0.0439, -0.0231, -0.1766,  0.1221,  0.1215,  0.0185,  0.1100,\n",
      "          -0.0992,  0.0469,  0.0031, -0.1167,  0.0702, -0.0272, -0.0180,\n",
      "          -0.0049,  0.0431,  0.1125, -0.1693, -0.0495,  0.1460],\n",
      "         [-0.1408,  0.0814, -0.0782,  0.1681,  0.0758,  0.0820,  0.1158,\n",
      "          -0.0996,  0.0192, -0.0505, -0.0477,  0.0881, -0.1235,  0.0384,\n",
      "          -0.0279,  0.0115,  0.1517, -0.0539,  0.0222,  0.0934]]],\n",
      "       grad_fn=<StackBackward>)\n"
     ]
    }
   ],
   "source": [
    "print(hn)"
   ]
  },
  {
   "cell_type": "code",
   "execution_count": 19,
   "metadata": {},
   "outputs": [
    {
     "name": "stdout",
     "output_type": "stream",
     "text": [
      "tensor([[[ 0.0031, -0.2045,  0.1520,  0.1789,  0.2619,  0.0266,  0.1676,\n",
      "           0.2362, -0.2677, -0.3277, -0.0755,  0.0961, -0.2326, -0.3098,\n",
      "          -0.2753, -0.0529, -0.0734, -0.0715,  0.2048, -0.0665],\n",
      "         [ 0.2492, -0.1699, -0.4277,  0.3743,  0.1811, -0.0814,  0.2711,\n",
      "           0.3729, -0.1715,  0.1167, -0.1954,  0.1640, -0.2957, -0.2118,\n",
      "          -0.3565, -0.0746,  0.7637,  0.0523, -0.1743,  0.4650],\n",
      "         [-0.0532, -0.3761,  0.2668,  0.1595,  0.2704,  0.1657,  0.0887,\n",
      "           0.2057,  0.2735,  0.0660, -0.2263, -0.0924, -0.1847, -0.0421,\n",
      "          -0.2036, -0.0421,  0.2677, -0.1778, -0.4042,  0.0306]],\n",
      "\n",
      "        [[-0.1810,  0.0985, -0.4140,  0.3191,  0.3127,  0.0959,  0.3246,\n",
      "          -0.2509, -0.0379, -0.0957, -0.2389,  0.2007, -0.1323,  0.0995,\n",
      "          -0.0433,  0.1880,  0.1647, -0.2824, -0.0907,  0.2521],\n",
      "         [-0.0878, -0.0406, -0.4056,  0.2319,  0.2666,  0.0367,  0.1917,\n",
      "          -0.1629,  0.0962,  0.0064, -0.2402,  0.1326, -0.0595, -0.0311,\n",
      "          -0.0098,  0.0904,  0.2395, -0.3742, -0.0980,  0.3089],\n",
      "         [-0.2907,  0.1583, -0.1791,  0.3145,  0.1780,  0.1646,  0.2103,\n",
      "          -0.1698,  0.0381, -0.1004, -0.0973,  0.1679, -0.2798,  0.0727,\n",
      "          -0.0567,  0.0244,  0.3316, -0.1104,  0.0421,  0.1952]]],\n",
      "       grad_fn=<StackBackward>)\n"
     ]
    }
   ],
   "source": [
    "print(cn)"
   ]
  },
  {
   "cell_type": "code",
   "execution_count": 22,
   "metadata": {},
   "outputs": [
    {
     "name": "stdout",
     "output_type": "stream",
     "text": [
      "torch.Size([2, 3, 5])\n",
      "torch.Size([5, 2, 3])\n"
     ]
    }
   ],
   "source": [
    "x = torch.randn(2, 3, 5)\n",
    "print(x.size())\n",
    "\n",
    "print(x.permute(2, 0, 1).size())"
   ]
  },
  {
   "cell_type": "code",
   "execution_count": 23,
   "metadata": {},
   "outputs": [
    {
     "data": {
      "text/plain": [
       "tensor([[[ 1.1236, -0.8771,  1.6650, -0.7788, -0.5144],\n",
       "         [ 0.1326, -0.3312, -0.2867, -2.4830,  0.1034],\n",
       "         [ 0.7673,  0.3375,  2.1390,  0.8000,  0.2405]],\n",
       "\n",
       "        [[-0.0153, -0.7367, -0.6222,  0.7282,  1.3127],\n",
       "         [ 0.1567,  0.9879,  0.0679,  0.2071,  1.2133],\n",
       "         [ 0.0398, -1.4301,  0.1342,  1.5115, -0.7954]]])"
      ]
     },
     "execution_count": 23,
     "metadata": {},
     "output_type": "execute_result"
    }
   ],
   "source": [
    "x"
   ]
  },
  {
   "cell_type": "code",
   "execution_count": null,
   "metadata": {},
   "outputs": [],
   "source": []
  },
  {
   "cell_type": "code",
   "execution_count": null,
   "metadata": {},
   "outputs": [],
   "source": [
    "#`last_hidden` is a tensor shape (2, b, h). \n",
    "# The first dimension corresponds to forwards and backwards.\n",
    "# Concatenate the forwards and backwards tensors to obtain a tensor shape (b, 2*h)\n",
    "t = torch.Long"
   ]
  },
  {
   "cell_type": "code",
   "execution_count": null,
   "metadata": {},
   "outputs": [],
   "source": []
  },
  {
   "cell_type": "code",
   "execution_count": 25,
   "metadata": {},
   "outputs": [
    {
     "data": {
      "text/plain": [
       "tensor([[ 0.7709,  0.4804, -0.7546],\n",
       "        [-1.0612, -0.9621,  0.6827]])"
      ]
     },
     "execution_count": 25,
     "metadata": {},
     "output_type": "execute_result"
    }
   ],
   "source": [
    "x = torch.randn(2, 3)\n",
    "x"
   ]
  },
  {
   "cell_type": "code",
   "execution_count": 27,
   "metadata": {},
   "outputs": [
    {
     "data": {
      "text/plain": [
       "tensor([[ 1.5419,  0.9608, -1.5092],\n",
       "        [-2.1223, -1.9242,  1.3655],\n",
       "        [ 0.7709,  0.4804, -0.7546],\n",
       "        [-1.0612, -0.9621,  0.6827],\n",
       "        [ 0.7709,  0.4804, -0.7546],\n",
       "        [-1.0612, -0.9621,  0.6827]])"
      ]
     },
     "execution_count": 27,
     "metadata": {},
     "output_type": "execute_result"
    }
   ],
   "source": [
    "torch.cat((x, x, x), 0)"
   ]
  },
  {
   "cell_type": "code",
   "execution_count": null,
   "metadata": {},
   "outputs": [],
   "source": []
  },
  {
   "cell_type": "code",
   "execution_count": null,
   "metadata": {},
   "outputs": [],
   "source": []
  },
  {
   "cell_type": "code",
   "execution_count": null,
   "metadata": {},
   "outputs": [],
   "source": []
  },
  {
   "cell_type": "code",
   "execution_count": 24,
   "metadata": {},
   "outputs": [
    {
     "name": "stdout",
     "output_type": "stream",
     "text": [
      "tensor([[[ 1.1236,  0.1326,  0.7673],\n",
      "         [-0.0153,  0.1567,  0.0398]],\n",
      "\n",
      "        [[-0.8771, -0.3312,  0.3375],\n",
      "         [-0.7367,  0.9879, -1.4301]],\n",
      "\n",
      "        [[ 1.6650, -0.2867,  2.1390],\n",
      "         [-0.6222,  0.0679,  0.1342]],\n",
      "\n",
      "        [[-0.7788, -2.4830,  0.8000],\n",
      "         [ 0.7282,  0.2071,  1.5115]],\n",
      "\n",
      "        [[-0.5144,  0.1034,  0.2405],\n",
      "         [ 1.3127,  1.2133, -0.7954]]])\n"
     ]
    }
   ],
   "source": [
    "print(x.permute(2, 0, 1))"
   ]
  },
  {
   "cell_type": "code",
   "execution_count": null,
   "metadata": {},
   "outputs": [],
   "source": []
  },
  {
   "cell_type": "code",
   "execution_count": null,
   "metadata": {},
   "outputs": [],
   "source": []
  },
  {
   "cell_type": "code",
   "execution_count": 67,
   "metadata": {},
   "outputs": [
    {
     "data": {
      "text/plain": [
       "tensor([[[ 2.1341, -0.8052, -0.2350, -1.4083],\n",
       "         [ 0.3253, -0.1871, -1.6087, -0.5147],\n",
       "         [-1.4240,  0.1252,  1.2401, -0.5109]],\n",
       "\n",
       "        [[ 0.5926,  0.5028,  0.8743, -0.4543],\n",
       "         [-0.7226, -2.3409, -0.3698,  1.2367],\n",
       "         [-0.4589,  0.8747,  1.5771,  0.2315]]])"
      ]
     },
     "execution_count": 67,
     "metadata": {},
     "output_type": "execute_result"
    }
   ],
   "source": [
    "# (2, b, h)\n",
    "# b = 3, h = 4\n",
    "# => (b, 2 * h) = (3, 8)\n",
    "t = torch.randn(2, 3, 4)\n",
    "t"
   ]
  },
  {
   "cell_type": "code",
   "execution_count": 63,
   "metadata": {},
   "outputs": [
    {
     "data": {
      "text/plain": [
       "tensor([[[-1.9475, -0.5888,  0.2962,  0.0940],\n",
       "         [-1.5057, -0.1350, -0.0663,  0.8253]],\n",
       "\n",
       "        [[ 0.6143, -1.3169,  0.0201,  0.5985],\n",
       "         [-1.2832, -1.6516, -0.5532,  0.0996]],\n",
       "\n",
       "        [[-0.6298,  2.2231,  0.0355, -1.8010],\n",
       "         [-0.8459, -0.1034, -0.0581,  0.4544]]])"
      ]
     },
     "execution_count": 63,
     "metadata": {},
     "output_type": "execute_result"
    }
   ],
   "source": [
    "t.permute(1, 0, 2)"
   ]
  },
  {
   "cell_type": "code",
   "execution_count": 69,
   "metadata": {},
   "outputs": [
    {
     "data": {
      "text/plain": [
       "torch.Size([3, 8])"
      ]
     },
     "execution_count": 69,
     "metadata": {},
     "output_type": "execute_result"
    }
   ],
   "source": [
    "torch.cat((t[0], t[1]), 1).size()"
   ]
  },
  {
   "cell_type": "code",
   "execution_count": null,
   "metadata": {},
   "outputs": [],
   "source": []
  },
  {
   "cell_type": "code",
   "execution_count": null,
   "metadata": {},
   "outputs": [],
   "source": []
  },
  {
   "cell_type": "code",
   "execution_count": null,
   "metadata": {},
   "outputs": [],
   "source": []
  },
  {
   "cell_type": "code",
   "execution_count": 49,
   "metadata": {},
   "outputs": [
    {
     "data": {
      "text/plain": [
       "tensor([[ 0.0605, -1.2572, -1.2634],\n",
       "        [ 0.1701,  1.7426,  0.3927]])"
      ]
     },
     "execution_count": 49,
     "metadata": {},
     "output_type": "execute_result"
    }
   ],
   "source": [
    "x = torch.randn(2, 3)\n",
    "x"
   ]
  },
  {
   "cell_type": "code",
   "execution_count": 52,
   "metadata": {},
   "outputs": [
    {
     "data": {
      "text/plain": [
       "tensor([[ 0.2881,  0.0913, -0.0089],\n",
       "        [-1.1232,  0.7478,  1.2241]])"
      ]
     },
     "execution_count": 52,
     "metadata": {},
     "output_type": "execute_result"
    }
   ],
   "source": [
    "y = torch.randn(2, 3)\n",
    "y"
   ]
  },
  {
   "cell_type": "code",
   "execution_count": 54,
   "metadata": {},
   "outputs": [
    {
     "data": {
      "text/plain": [
       "tensor([[ 0.0605, -1.2572, -1.2634,  0.2881,  0.0913, -0.0089],\n",
       "        [ 0.1701,  1.7426,  0.3927, -1.1232,  0.7478,  1.2241]])"
      ]
     },
     "execution_count": 54,
     "metadata": {},
     "output_type": "execute_result"
    }
   ],
   "source": [
    "torch.cat((x, y), 1)"
   ]
  },
  {
   "cell_type": "code",
   "execution_count": null,
   "metadata": {},
   "outputs": [],
   "source": []
  },
  {
   "cell_type": "code",
   "execution_count": null,
   "metadata": {},
   "outputs": [],
   "source": []
  },
  {
   "cell_type": "code",
   "execution_count": null,
   "metadata": {},
   "outputs": [],
   "source": []
  },
  {
   "cell_type": "code",
   "execution_count": 70,
   "metadata": {},
   "outputs": [
    {
     "data": {
      "text/plain": [
       "PackedSequence(data=tensor([4, 1, 3, 5, 2, 6]), batch_sizes=tensor([3, 2, 1]), sorted_indices=tensor([2, 0, 1]), unsorted_indices=tensor([1, 2, 0]))"
      ]
     },
     "execution_count": 70,
     "metadata": {},
     "output_type": "execute_result"
    }
   ],
   "source": [
    "from torch.nn.utils.rnn import pack_padded_sequence, pad_packed_sequence\n",
    "\n",
    "seq = torch.tensor([[1,2,0], [3,0,0], [4,5,6]])\n",
    "lens = [2, 1, 3]\n",
    "packed = pack_padded_sequence(seq, lens, batch_first=True, enforce_sorted=False)\n",
    "packed"
   ]
  },
  {
   "cell_type": "code",
   "execution_count": 72,
   "metadata": {},
   "outputs": [
    {
     "data": {
      "text/plain": [
       "tensor([[1, 2, 0],\n",
       "        [3, 0, 0],\n",
       "        [4, 5, 6]])"
      ]
     },
     "execution_count": 72,
     "metadata": {},
     "output_type": "execute_result"
    }
   ],
   "source": [
    "seq_unpacked, lens_unpacked = pad_packed_sequence(packed, batch_first=True)\n",
    "seq_unpacked"
   ]
  },
  {
   "cell_type": "code",
   "execution_count": 73,
   "metadata": {},
   "outputs": [
    {
     "data": {
      "text/plain": [
       "tensor([2, 1, 3])"
      ]
     },
     "execution_count": 73,
     "metadata": {},
     "output_type": "execute_result"
    }
   ],
   "source": [
    "lens_unpacked"
   ]
  },
  {
   "cell_type": "code",
   "execution_count": null,
   "metadata": {},
   "outputs": [],
   "source": []
  },
  {
   "cell_type": "code",
   "execution_count": null,
   "metadata": {},
   "outputs": [],
   "source": []
  },
  {
   "cell_type": "code",
   "execution_count": 78,
   "metadata": {},
   "outputs": [
    {
     "data": {
      "text/plain": [
       "tensor([[[ 0,  1,  2],\n",
       "         [ 3,  4,  5],\n",
       "         [ 6,  7,  8],\n",
       "         [ 9, 10, 11],\n",
       "         [12, 13, 14]],\n",
       "\n",
       "        [[15, 16, 17],\n",
       "         [18, 19, 20],\n",
       "         [21, 22, 23],\n",
       "         [24, 25, 26],\n",
       "         [27, 28, 29]],\n",
       "\n",
       "        [[30, 31, 32],\n",
       "         [33, 34, 35],\n",
       "         [36, 37, 38],\n",
       "         [39, 40, 41],\n",
       "         [42, 43, 44]],\n",
       "\n",
       "        [[45, 46, 47],\n",
       "         [48, 49, 50],\n",
       "         [51, 52, 53],\n",
       "         [54, 55, 56],\n",
       "         [57, 58, 59]]])"
      ]
     },
     "execution_count": 78,
     "metadata": {},
     "output_type": "execute_result"
    }
   ],
   "source": [
    "Y = torch.arange(4*5*3).reshape(4,5,3)\n",
    "Y"
   ]
  },
  {
   "cell_type": "code",
   "execution_count": 85,
   "metadata": {},
   "outputs": [
    {
     "name": "stdout",
     "output_type": "stream",
     "text": [
      "Y_t.size: torch.Size([1, 5, 3])\n",
      "Y_t.size after squeeze: torch.Size([5, 3])\n"
     ]
    }
   ],
   "source": [
    "for Y_t in torch.split(Y, 1):\n",
    "    print(f\"Y_t.size: {Y_t.size()}\")\n",
    "    Y_t = torch.squeeze(Y_t)\n",
    "    print(f\"Y_t.size after squeeze: {Y_t.size()}\")\n",
    "    break"
   ]
  },
  {
   "cell_type": "code",
   "execution_count": null,
   "metadata": {},
   "outputs": [],
   "source": []
  },
  {
   "cell_type": "code",
   "execution_count": null,
   "metadata": {},
   "outputs": [],
   "source": []
  },
  {
   "cell_type": "code",
   "execution_count": null,
   "metadata": {},
   "outputs": [],
   "source": []
  },
  {
   "cell_type": "code",
   "execution_count": 89,
   "metadata": {},
   "outputs": [
    {
     "data": {
      "text/plain": [
       "tensor([[ 1.2485, -0.8024,  2.0375],\n",
       "        [-0.0478,  2.2435, -0.6559]])"
      ]
     },
     "execution_count": 89,
     "metadata": {},
     "output_type": "execute_result"
    }
   ],
   "source": [
    "input = torch.randn(2, 3)\n",
    "input"
   ]
  },
  {
   "cell_type": "code",
   "execution_count": 100,
   "metadata": {},
   "outputs": [],
   "source": [
    "m = nn.Softmax(dim=0)"
   ]
  },
  {
   "cell_type": "code",
   "execution_count": 101,
   "metadata": {},
   "outputs": [
    {
     "data": {
      "text/plain": [
       "tensor([[0.7852, 0.0454, 0.9366],\n",
       "        [0.2148, 0.9546, 0.0634]])"
      ]
     },
     "execution_count": 101,
     "metadata": {},
     "output_type": "execute_result"
    }
   ],
   "source": [
    "output = m(input)\n",
    "output"
   ]
  },
  {
   "cell_type": "code",
   "execution_count": null,
   "metadata": {},
   "outputs": [],
   "source": []
  },
  {
   "cell_type": "code",
   "execution_count": 105,
   "metadata": {},
   "outputs": [
    {
     "name": "stdout",
     "output_type": "stream",
     "text": [
      "dec_hidden.size: torch.Size([5, 3]) enc_hiddens_proj.size: torch.Size([5, 20, 3])\n"
     ]
    }
   ],
   "source": [
    "dec_hidden = torch.randn(5, 3)\n",
    "enc_hiddens_proj = torch.randn(5, 20, 3)\n",
    "print(f\"dec_hidden.size: {dec_hidden.size()} enc_hiddens_proj.size: {enc_hiddens_proj.size()}\")"
   ]
  },
  {
   "cell_type": "code",
   "execution_count": 111,
   "metadata": {},
   "outputs": [
    {
     "data": {
      "text/plain": [
       "torch.Size([5, 3, 1])"
      ]
     },
     "execution_count": 111,
     "metadata": {},
     "output_type": "execute_result"
    }
   ],
   "source": [
    "dec_hidden.unsqueeze(2).size()"
   ]
  },
  {
   "cell_type": "code",
   "execution_count": 112,
   "metadata": {},
   "outputs": [
    {
     "data": {
      "text/plain": [
       "torch.Size([5, 20, 1])"
      ]
     },
     "execution_count": 112,
     "metadata": {},
     "output_type": "execute_result"
    }
   ],
   "source": [
    "enc_hiddens_proj.bmm(dec_hidden.unsqueeze(2)).size()"
   ]
  },
  {
   "cell_type": "code",
   "execution_count": 113,
   "metadata": {},
   "outputs": [
    {
     "data": {
      "text/plain": [
       "torch.Size([5, 20])"
      ]
     },
     "execution_count": 113,
     "metadata": {},
     "output_type": "execute_result"
    }
   ],
   "source": [
    "enc_hiddens_proj.bmm(dec_hidden.unsqueeze(2)).squeeze(2).size()"
   ]
  },
  {
   "cell_type": "code",
   "execution_count": null,
   "metadata": {},
   "outputs": [],
   "source": []
  },
  {
   "cell_type": "code",
   "execution_count": null,
   "metadata": {},
   "outputs": [],
   "source": []
  },
  {
   "cell_type": "code",
   "execution_count": 114,
   "metadata": {},
   "outputs": [],
   "source": [
    "enc_hiddens = torch.rand(5, 20, 6)\n",
    "alpha_t = torch.rand(5, 20)"
   ]
  },
  {
   "cell_type": "code",
   "execution_count": 124,
   "metadata": {},
   "outputs": [
    {
     "data": {
      "text/plain": [
       "torch.Size([5, 6])"
      ]
     },
     "execution_count": 124,
     "metadata": {},
     "output_type": "execute_result"
    }
   ],
   "source": [
    "alpha_t.unsqueeze(1).bmm(enc_hiddens).squeeze(1).size()"
   ]
  },
  {
   "cell_type": "code",
   "execution_count": null,
   "metadata": {},
   "outputs": [],
   "source": []
  },
  {
   "cell_type": "markdown",
   "metadata": {},
   "source": [
    "### Azure\n",
    "Ganjahh123!"
   ]
  },
  {
   "cell_type": "markdown",
   "metadata": {},
   "source": [
    "```\n",
    "ssh -p 55336 scpdxcs@ml-lab-191a8958-5a9d-4291-83f4-565570e51159.southcentralus.cloudapp.azure.com\n",
    "```"
   ]
  },
  {
   "cell_type": "markdown",
   "metadata": {},
   "source": [
    "```\n",
    "scp -r -P 55336 XCS224N-A4 scpdxcs@ml-lab-191a8958-5a9d-4291-83f4-565570e51159.southcentralus.cloudapp.azure.com:/home/scpdxcs/a4\n",
    "```"
   ]
  },
  {
   "cell_type": "markdown",
   "metadata": {},
   "source": [
    "```\n",
    "scp -r -P 55336 scpdxcs@ml-lab-191a8958-5a9d-4291-83f4-565570e51159.southcentralus.cloudapp.azure.com:/home/scpdxcs/a4/XCS224N-A4/outputs outputs\n",
    "```"
   ]
  },
  {
   "cell_type": "code",
   "execution_count": null,
   "metadata": {},
   "outputs": [],
   "source": []
  }
 ],
 "metadata": {
  "kernelspec": {
   "display_name": "Python 3",
   "language": "python",
   "name": "python3"
  },
  "language_info": {
   "codemirror_mode": {
    "name": "ipython",
    "version": 3
   },
   "file_extension": ".py",
   "mimetype": "text/x-python",
   "name": "python",
   "nbconvert_exporter": "python",
   "pygments_lexer": "ipython3",
   "version": "3.6.10"
  }
 },
 "nbformat": 4,
 "nbformat_minor": 4
}
